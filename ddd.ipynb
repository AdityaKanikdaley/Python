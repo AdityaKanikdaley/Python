{
 "metadata": {
  "language_info": {
   "codemirror_mode": {
    "name": "ipython",
    "version": 3
   },
   "file_extension": ".py",
   "mimetype": "text/x-python",
   "name": "python",
   "nbconvert_exporter": "python",
   "pygments_lexer": "ipython3",
   "version": "3.9.2-final"
  },
  "orig_nbformat": 2,
  "kernelspec": {
   "name": "python392jvsc74a57bd069ed427edff78ce175b86e697d446b86f044037ad3c111315ad3ba5b431f9cfb",
   "display_name": "Python 3.9.2 64-bit"
  },
  "metadata": {
   "interpreter": {
    "hash": "69ed427edff78ce175b86e697d446b86f044037ad3c111315ad3ba5b431f9cfb"
   }
  }
 },
 "nbformat": 4,
 "nbformat_minor": 2,
 "cells": [
  {
   "cell_type": "code",
   "execution_count": 1,
   "metadata": {},
   "outputs": [
    {
     "output_type": "stream",
     "name": "stdout",
     "text": [
      "Fact is: 24\n"
     ]
    }
   ],
   "source": [
    "fact=1\n",
    "num = int(input(\"Enter number: \"))\n",
    "i=1\n",
    "while(i<=num):\n",
    "    fact = fact*i\n",
    "    i = i+1\n",
    "print(\"Fact is:\" , fact)\n",
    "#%%"
   ]
  },
  {
   "cell_type": "code",
   "execution_count": null,
   "metadata": {},
   "outputs": [],
   "source": []
  }
 ]
}