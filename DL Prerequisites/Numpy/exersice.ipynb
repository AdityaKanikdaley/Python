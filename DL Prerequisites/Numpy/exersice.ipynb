{
 "metadata": {
  "language_info": {
   "codemirror_mode": {
    "name": "ipython",
    "version": 3
   },
   "file_extension": ".py",
   "mimetype": "text/x-python",
   "name": "python",
   "nbconvert_exporter": "python",
   "pygments_lexer": "ipython3",
   "version": "3.9.2-final"
  },
  "orig_nbformat": 2,
  "kernelspec": {
   "name": "python392jvsc74a57bd069ed427edff78ce175b86e697d446b86f044037ad3c111315ad3ba5b431f9cfb",
   "display_name": "Python 3.9.2 64-bit"
  },
  "metadata": {
   "interpreter": {
    "hash": "69ed427edff78ce175b86e697d446b86f044037ad3c111315ad3ba5b431f9cfb"
   }
  }
 },
 "nbformat": 4,
 "nbformat_minor": 2,
 "cells": [
  {
   "cell_type": "code",
   "execution_count": 17,
   "metadata": {},
   "outputs": [],
   "source": [
    "# speed test for matrix multiplication using for loop VS numpy\n",
    "\n",
    "\n",
    "import numpy as np\n",
    "from datetime import datetime"
   ]
  },
  {
   "cell_type": "code",
   "execution_count": 18,
   "metadata": {
    "tags": []
   },
   "outputs": [
    {
     "output_type": "stream",
     "name": "stdout",
     "text": [
      "0:00:00.251053\n0:00:00.442947\ndt1 / dt2:  0.5667788697067596\n"
     ]
    }
   ],
   "source": [
    "m1 = [[1,2],[3,4]] \n",
    "m2 = [[5,6],[7,8]] \n",
    "T = 100000\n",
    "\n",
    "def matrixMul(a,b):\n",
    "    result = [[0,0],[0,0]]\n",
    "    for i in range(len(a)):\n",
    "        for j in range(len(b[0])):\n",
    "            for k in range(len(b)):\n",
    "                result[i][j] += a[i][k] * b[k][j]\n",
    "   \n",
    "\n",
    "t0 = datetime.now()\n",
    "for t in range(T):\n",
    "    matrixMul(m1,m2)\n",
    "dt1 = datetime.now() - t0\n",
    "\n",
    "t0 = datetime.now()\n",
    "for t in range(T):\n",
    "    np.matmul(m1,m2)\n",
    "dt2 = datetime.now() - t0\n",
    "\n",
    "\n",
    "print(dt1)\n",
    "print(dt2)\n",
    "print(\"dt1 / dt2: \", dt1.total_seconds() / dt2.total_seconds())\n"
   ]
  },
  {
   "cell_type": "code",
   "execution_count": null,
   "metadata": {},
   "outputs": [],
   "source": []
  }
 ]
}