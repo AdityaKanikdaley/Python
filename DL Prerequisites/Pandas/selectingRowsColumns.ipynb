{
 "metadata": {
  "language_info": {
   "codemirror_mode": {
    "name": "ipython",
    "version": 3
   },
   "file_extension": ".py",
   "mimetype": "text/x-python",
   "name": "python",
   "nbconvert_exporter": "python",
   "pygments_lexer": "ipython3",
   "version": "3.9.2-final"
  },
  "orig_nbformat": 2,
  "kernelspec": {
   "name": "python392jvsc74a57bd069ed427edff78ce175b86e697d446b86f044037ad3c111315ad3ba5b431f9cfb",
   "display_name": "Python 3.9.2 64-bit"
  },
  "metadata": {
   "interpreter": {
    "hash": "69ed427edff78ce175b86e697d446b86f044037ad3c111315ad3ba5b431f9cfb"
   }
  }
 },
 "nbformat": 4,
 "nbformat_minor": 2,
 "cells": [
  {
   "cell_type": "code",
   "execution_count": 1,
   "metadata": {},
   "outputs": [],
   "source": [
    "import pandas as pd"
   ]
  },
  {
   "cell_type": "code",
   "execution_count": 39,
   "metadata": {},
   "outputs": [
    {
     "output_type": "execute_result",
     "data": {
      "text/plain": [
       "    Name       \"Sex\"   \"Age\"   \"Height (in)\"   \"Weight (lbs)\"\n",
       "0   Alex         \"M\"      41              74              170\n",
       "1   Bert         \"M\"      42              68              166\n",
       "2   Carl         \"M\"      32              70              155\n",
       "3   Dave         \"M\"      39              72              167\n",
       "4   Elly         \"F\"      30              66              124\n",
       "5   Fran         \"F\"      33              66              115\n",
       "6   Gwen         \"F\"      26              64              121\n",
       "7   Hank         \"M\"      30              71              158\n",
       "8   Ivan         \"M\"      53              72              175\n",
       "9   Jake         \"M\"      32              69              143\n",
       "10  Kate         \"F\"      47              69              139\n",
       "11  Luke         \"M\"      34              72              163\n",
       "12  Myra         \"F\"      23              62               98\n",
       "13  Neil         \"M\"      36              75              160\n",
       "14  Omar         \"M\"      38              70              145\n",
       "15  Page         \"F\"      31              67              135\n",
       "16  Quin         \"M\"      29              71              176\n",
       "17  Ruth         \"F\"      28              65              131"
      ],
      "text/html": "<div>\n<style scoped>\n    .dataframe tbody tr th:only-of-type {\n        vertical-align: middle;\n    }\n\n    .dataframe tbody tr th {\n        vertical-align: top;\n    }\n\n    .dataframe thead th {\n        text-align: right;\n    }\n</style>\n<table border=\"1\" class=\"dataframe\">\n  <thead>\n    <tr style=\"text-align: right;\">\n      <th></th>\n      <th>Name</th>\n      <th>\"Sex\"</th>\n      <th>\"Age\"</th>\n      <th>\"Height (in)\"</th>\n      <th>\"Weight (lbs)\"</th>\n    </tr>\n  </thead>\n  <tbody>\n    <tr>\n      <th>0</th>\n      <td>Alex</td>\n      <td>\"M\"</td>\n      <td>41</td>\n      <td>74</td>\n      <td>170</td>\n    </tr>\n    <tr>\n      <th>1</th>\n      <td>Bert</td>\n      <td>\"M\"</td>\n      <td>42</td>\n      <td>68</td>\n      <td>166</td>\n    </tr>\n    <tr>\n      <th>2</th>\n      <td>Carl</td>\n      <td>\"M\"</td>\n      <td>32</td>\n      <td>70</td>\n      <td>155</td>\n    </tr>\n    <tr>\n      <th>3</th>\n      <td>Dave</td>\n      <td>\"M\"</td>\n      <td>39</td>\n      <td>72</td>\n      <td>167</td>\n    </tr>\n    <tr>\n      <th>4</th>\n      <td>Elly</td>\n      <td>\"F\"</td>\n      <td>30</td>\n      <td>66</td>\n      <td>124</td>\n    </tr>\n    <tr>\n      <th>5</th>\n      <td>Fran</td>\n      <td>\"F\"</td>\n      <td>33</td>\n      <td>66</td>\n      <td>115</td>\n    </tr>\n    <tr>\n      <th>6</th>\n      <td>Gwen</td>\n      <td>\"F\"</td>\n      <td>26</td>\n      <td>64</td>\n      <td>121</td>\n    </tr>\n    <tr>\n      <th>7</th>\n      <td>Hank</td>\n      <td>\"M\"</td>\n      <td>30</td>\n      <td>71</td>\n      <td>158</td>\n    </tr>\n    <tr>\n      <th>8</th>\n      <td>Ivan</td>\n      <td>\"M\"</td>\n      <td>53</td>\n      <td>72</td>\n      <td>175</td>\n    </tr>\n    <tr>\n      <th>9</th>\n      <td>Jake</td>\n      <td>\"M\"</td>\n      <td>32</td>\n      <td>69</td>\n      <td>143</td>\n    </tr>\n    <tr>\n      <th>10</th>\n      <td>Kate</td>\n      <td>\"F\"</td>\n      <td>47</td>\n      <td>69</td>\n      <td>139</td>\n    </tr>\n    <tr>\n      <th>11</th>\n      <td>Luke</td>\n      <td>\"M\"</td>\n      <td>34</td>\n      <td>72</td>\n      <td>163</td>\n    </tr>\n    <tr>\n      <th>12</th>\n      <td>Myra</td>\n      <td>\"F\"</td>\n      <td>23</td>\n      <td>62</td>\n      <td>98</td>\n    </tr>\n    <tr>\n      <th>13</th>\n      <td>Neil</td>\n      <td>\"M\"</td>\n      <td>36</td>\n      <td>75</td>\n      <td>160</td>\n    </tr>\n    <tr>\n      <th>14</th>\n      <td>Omar</td>\n      <td>\"M\"</td>\n      <td>38</td>\n      <td>70</td>\n      <td>145</td>\n    </tr>\n    <tr>\n      <th>15</th>\n      <td>Page</td>\n      <td>\"F\"</td>\n      <td>31</td>\n      <td>67</td>\n      <td>135</td>\n    </tr>\n    <tr>\n      <th>16</th>\n      <td>Quin</td>\n      <td>\"M\"</td>\n      <td>29</td>\n      <td>71</td>\n      <td>176</td>\n    </tr>\n    <tr>\n      <th>17</th>\n      <td>Ruth</td>\n      <td>\"F\"</td>\n      <td>28</td>\n      <td>65</td>\n      <td>131</td>\n    </tr>\n  </tbody>\n</table>\n</div>"
     },
     "metadata": {},
     "execution_count": 39
    }
   ],
   "source": [
    "df = pd.read_csv('https://people.sc.fsu.edu/~jburkardt/data/csv/biostats.csv')\n",
    "df"
   ]
  },
  {
   "cell_type": "code",
   "execution_count": 3,
   "metadata": {},
   "outputs": [
    {
     "output_type": "execute_result",
     "data": {
      "text/plain": [
       "Index(['Name', '     \"Sex\"', ' \"Age\"', ' \"Height (in)\"', ' \"Weight (lbs)\"'], dtype='object')"
      ]
     },
     "metadata": {},
     "execution_count": 3
    }
   ],
   "source": [
    "df.columns"
   ]
  },
  {
   "cell_type": "code",
   "execution_count": 40,
   "metadata": {},
   "outputs": [
    {
     "output_type": "execute_result",
     "data": {
      "text/plain": [
       "   Name         Sex  Age  Height (in)  Weight (lbs)\n",
       "0  Alex         \"M\"   41           74           170\n",
       "1  Bert         \"M\"   42           68           166\n",
       "2  Carl         \"M\"   32           70           155\n",
       "3  Dave         \"M\"   39           72           167\n",
       "4  Elly         \"F\"   30           66           124"
      ],
      "text/html": "<div>\n<style scoped>\n    .dataframe tbody tr th:only-of-type {\n        vertical-align: middle;\n    }\n\n    .dataframe tbody tr th {\n        vertical-align: top;\n    }\n\n    .dataframe thead th {\n        text-align: right;\n    }\n</style>\n<table border=\"1\" class=\"dataframe\">\n  <thead>\n    <tr style=\"text-align: right;\">\n      <th></th>\n      <th>Name</th>\n      <th>Sex</th>\n      <th>Age</th>\n      <th>Height (in)</th>\n      <th>Weight (lbs)</th>\n    </tr>\n  </thead>\n  <tbody>\n    <tr>\n      <th>0</th>\n      <td>Alex</td>\n      <td>\"M\"</td>\n      <td>41</td>\n      <td>74</td>\n      <td>170</td>\n    </tr>\n    <tr>\n      <th>1</th>\n      <td>Bert</td>\n      <td>\"M\"</td>\n      <td>42</td>\n      <td>68</td>\n      <td>166</td>\n    </tr>\n    <tr>\n      <th>2</th>\n      <td>Carl</td>\n      <td>\"M\"</td>\n      <td>32</td>\n      <td>70</td>\n      <td>155</td>\n    </tr>\n    <tr>\n      <th>3</th>\n      <td>Dave</td>\n      <td>\"M\"</td>\n      <td>39</td>\n      <td>72</td>\n      <td>167</td>\n    </tr>\n    <tr>\n      <th>4</th>\n      <td>Elly</td>\n      <td>\"F\"</td>\n      <td>30</td>\n      <td>66</td>\n      <td>124</td>\n    </tr>\n  </tbody>\n</table>\n</div>"
     },
     "metadata": {},
     "execution_count": 40
    }
   ],
   "source": [
    "df.columns = ['Name', 'Sex', 'Age', 'Height (in)', 'Weight (lbs)']\n",
    "df.head()"
   ]
  },
  {
   "cell_type": "code",
   "execution_count": 23,
   "metadata": {},
   "outputs": [
    {
     "output_type": "execute_result",
     "data": {
      "text/plain": [
       "0     Alex\n",
       "1     Bert\n",
       "2     Carl\n",
       "3     Dave\n",
       "4     Elly\n",
       "5     Fran\n",
       "6     Gwen\n",
       "7     Hank\n",
       "8     Ivan\n",
       "9     Jake\n",
       "10    Kate\n",
       "11    Luke\n",
       "12    Myra\n",
       "13    Neil\n",
       "14    Omar\n",
       "15    Page\n",
       "16    Quin\n",
       "17    Ruth\n",
       "Name: Name, dtype: object"
      ]
     },
     "metadata": {},
     "execution_count": 23
    }
   ],
   "source": [
    "df['Name']"
   ]
  },
  {
   "cell_type": "code",
   "execution_count": 24,
   "metadata": {},
   "outputs": [
    {
     "output_type": "execute_result",
     "data": {
      "text/plain": [
       "    Name  Height (in)\n",
       "0   Alex           74\n",
       "1   Bert           68\n",
       "2   Carl           70\n",
       "3   Dave           72\n",
       "4   Elly           66\n",
       "5   Fran           66\n",
       "6   Gwen           64\n",
       "7   Hank           71\n",
       "8   Ivan           72\n",
       "9   Jake           69\n",
       "10  Kate           69\n",
       "11  Luke           72\n",
       "12  Myra           62\n",
       "13  Neil           75\n",
       "14  Omar           70\n",
       "15  Page           67\n",
       "16  Quin           71\n",
       "17  Ruth           65"
      ],
      "text/html": "<div>\n<style scoped>\n    .dataframe tbody tr th:only-of-type {\n        vertical-align: middle;\n    }\n\n    .dataframe tbody tr th {\n        vertical-align: top;\n    }\n\n    .dataframe thead th {\n        text-align: right;\n    }\n</style>\n<table border=\"1\" class=\"dataframe\">\n  <thead>\n    <tr style=\"text-align: right;\">\n      <th></th>\n      <th>Name</th>\n      <th>Height (in)</th>\n    </tr>\n  </thead>\n  <tbody>\n    <tr>\n      <th>0</th>\n      <td>Alex</td>\n      <td>74</td>\n    </tr>\n    <tr>\n      <th>1</th>\n      <td>Bert</td>\n      <td>68</td>\n    </tr>\n    <tr>\n      <th>2</th>\n      <td>Carl</td>\n      <td>70</td>\n    </tr>\n    <tr>\n      <th>3</th>\n      <td>Dave</td>\n      <td>72</td>\n    </tr>\n    <tr>\n      <th>4</th>\n      <td>Elly</td>\n      <td>66</td>\n    </tr>\n    <tr>\n      <th>5</th>\n      <td>Fran</td>\n      <td>66</td>\n    </tr>\n    <tr>\n      <th>6</th>\n      <td>Gwen</td>\n      <td>64</td>\n    </tr>\n    <tr>\n      <th>7</th>\n      <td>Hank</td>\n      <td>71</td>\n    </tr>\n    <tr>\n      <th>8</th>\n      <td>Ivan</td>\n      <td>72</td>\n    </tr>\n    <tr>\n      <th>9</th>\n      <td>Jake</td>\n      <td>69</td>\n    </tr>\n    <tr>\n      <th>10</th>\n      <td>Kate</td>\n      <td>69</td>\n    </tr>\n    <tr>\n      <th>11</th>\n      <td>Luke</td>\n      <td>72</td>\n    </tr>\n    <tr>\n      <th>12</th>\n      <td>Myra</td>\n      <td>62</td>\n    </tr>\n    <tr>\n      <th>13</th>\n      <td>Neil</td>\n      <td>75</td>\n    </tr>\n    <tr>\n      <th>14</th>\n      <td>Omar</td>\n      <td>70</td>\n    </tr>\n    <tr>\n      <th>15</th>\n      <td>Page</td>\n      <td>67</td>\n    </tr>\n    <tr>\n      <th>16</th>\n      <td>Quin</td>\n      <td>71</td>\n    </tr>\n    <tr>\n      <th>17</th>\n      <td>Ruth</td>\n      <td>65</td>\n    </tr>\n  </tbody>\n</table>\n</div>"
     },
     "metadata": {},
     "execution_count": 24
    }
   ],
   "source": [
    "df[['Name', 'Height (in)']]"
   ]
  },
  {
   "cell_type": "code",
   "execution_count": 25,
   "metadata": {},
   "outputs": [
    {
     "output_type": "execute_result",
     "data": {
      "text/plain": [
       "pandas.core.frame.DataFrame"
      ]
     },
     "metadata": {},
     "execution_count": 25
    }
   ],
   "source": [
    "type(df[['Name', 'Sex']])"
   ]
  },
  {
   "cell_type": "code",
   "execution_count": 26,
   "metadata": {},
   "outputs": [
    {
     "output_type": "execute_result",
     "data": {
      "text/plain": [
       "Name                  Alex\n",
       "Sex                    \"M\"\n",
       "Age                     41\n",
       "Height (in)             74\n",
       "Weight (lbs)           170\n",
       "Name: 0, dtype: object"
      ]
     },
     "metadata": {},
     "execution_count": 26
    }
   ],
   "source": [
    "df.iloc[0]  # iloc is used for ingerger indices"
   ]
  },
  {
   "cell_type": "code",
   "execution_count": 27,
   "metadata": {},
   "outputs": [
    {
     "output_type": "execute_result",
     "data": {
      "text/plain": [
       "Name                  Alex\n",
       "Sex                    \"M\"\n",
       "Age                     41\n",
       "Height (in)             74\n",
       "Weight (lbs)           170\n",
       "Name: 0, dtype: object"
      ]
     },
     "metadata": {},
     "execution_count": 27
    }
   ],
   "source": [
    "df.loc[0] # loc selects by index lable"
   ]
  },
  {
   "cell_type": "code",
   "execution_count": 30,
   "metadata": {},
   "outputs": [
    {
     "output_type": "execute_result",
     "data": {
      "text/plain": [
       "           \"Sex\"   \"Age\"   \"Height (in)\"   \"Weight (lbs)\"\n",
       "Name                                                     \n",
       "Alex         \"M\"      41              74              170\n",
       "Bert         \"M\"      42              68              166\n",
       "Carl         \"M\"      32              70              155\n",
       "Dave         \"M\"      39              72              167\n",
       "Elly         \"F\"      30              66              124\n",
       "Fran         \"F\"      33              66              115\n",
       "Gwen         \"F\"      26              64              121\n",
       "Hank         \"M\"      30              71              158\n",
       "Ivan         \"M\"      53              72              175\n",
       "Jake         \"M\"      32              69              143\n",
       "Kate         \"F\"      47              69              139\n",
       "Luke         \"M\"      34              72              163\n",
       "Myra         \"F\"      23              62               98\n",
       "Neil         \"M\"      36              75              160\n",
       "Omar         \"M\"      38              70              145\n",
       "Page         \"F\"      31              67              135\n",
       "Quin         \"M\"      29              71              176\n",
       "Ruth         \"F\"      28              65              131"
      ],
      "text/html": "<div>\n<style scoped>\n    .dataframe tbody tr th:only-of-type {\n        vertical-align: middle;\n    }\n\n    .dataframe tbody tr th {\n        vertical-align: top;\n    }\n\n    .dataframe thead th {\n        text-align: right;\n    }\n</style>\n<table border=\"1\" class=\"dataframe\">\n  <thead>\n    <tr style=\"text-align: right;\">\n      <th></th>\n      <th>\"Sex\"</th>\n      <th>\"Age\"</th>\n      <th>\"Height (in)\"</th>\n      <th>\"Weight (lbs)\"</th>\n    </tr>\n    <tr>\n      <th>Name</th>\n      <th></th>\n      <th></th>\n      <th></th>\n      <th></th>\n    </tr>\n  </thead>\n  <tbody>\n    <tr>\n      <th>Alex</th>\n      <td>\"M\"</td>\n      <td>41</td>\n      <td>74</td>\n      <td>170</td>\n    </tr>\n    <tr>\n      <th>Bert</th>\n      <td>\"M\"</td>\n      <td>42</td>\n      <td>68</td>\n      <td>166</td>\n    </tr>\n    <tr>\n      <th>Carl</th>\n      <td>\"M\"</td>\n      <td>32</td>\n      <td>70</td>\n      <td>155</td>\n    </tr>\n    <tr>\n      <th>Dave</th>\n      <td>\"M\"</td>\n      <td>39</td>\n      <td>72</td>\n      <td>167</td>\n    </tr>\n    <tr>\n      <th>Elly</th>\n      <td>\"F\"</td>\n      <td>30</td>\n      <td>66</td>\n      <td>124</td>\n    </tr>\n    <tr>\n      <th>Fran</th>\n      <td>\"F\"</td>\n      <td>33</td>\n      <td>66</td>\n      <td>115</td>\n    </tr>\n    <tr>\n      <th>Gwen</th>\n      <td>\"F\"</td>\n      <td>26</td>\n      <td>64</td>\n      <td>121</td>\n    </tr>\n    <tr>\n      <th>Hank</th>\n      <td>\"M\"</td>\n      <td>30</td>\n      <td>71</td>\n      <td>158</td>\n    </tr>\n    <tr>\n      <th>Ivan</th>\n      <td>\"M\"</td>\n      <td>53</td>\n      <td>72</td>\n      <td>175</td>\n    </tr>\n    <tr>\n      <th>Jake</th>\n      <td>\"M\"</td>\n      <td>32</td>\n      <td>69</td>\n      <td>143</td>\n    </tr>\n    <tr>\n      <th>Kate</th>\n      <td>\"F\"</td>\n      <td>47</td>\n      <td>69</td>\n      <td>139</td>\n    </tr>\n    <tr>\n      <th>Luke</th>\n      <td>\"M\"</td>\n      <td>34</td>\n      <td>72</td>\n      <td>163</td>\n    </tr>\n    <tr>\n      <th>Myra</th>\n      <td>\"F\"</td>\n      <td>23</td>\n      <td>62</td>\n      <td>98</td>\n    </tr>\n    <tr>\n      <th>Neil</th>\n      <td>\"M\"</td>\n      <td>36</td>\n      <td>75</td>\n      <td>160</td>\n    </tr>\n    <tr>\n      <th>Omar</th>\n      <td>\"M\"</td>\n      <td>38</td>\n      <td>70</td>\n      <td>145</td>\n    </tr>\n    <tr>\n      <th>Page</th>\n      <td>\"F\"</td>\n      <td>31</td>\n      <td>67</td>\n      <td>135</td>\n    </tr>\n    <tr>\n      <th>Quin</th>\n      <td>\"M\"</td>\n      <td>29</td>\n      <td>71</td>\n      <td>176</td>\n    </tr>\n    <tr>\n      <th>Ruth</th>\n      <td>\"F\"</td>\n      <td>28</td>\n      <td>65</td>\n      <td>131</td>\n    </tr>\n  </tbody>\n</table>\n</div>"
     },
     "metadata": {},
     "execution_count": 30
    }
   ],
   "source": [
    "df2 = pd.read_csv('https://people.sc.fsu.edu/~jburkardt/data/csv/biostats.csv', index_col='Name')\n",
    "df2"
   ]
  },
  {
   "cell_type": "code",
   "execution_count": 31,
   "metadata": {},
   "outputs": [
    {
     "output_type": "execute_result",
     "data": {
      "text/plain": [
       "     \"Sex\"                \"M\"\n",
       " \"Age\"                     30\n",
       " \"Height (in)\"             71\n",
       " \"Weight (lbs)\"           158\n",
       "Name: Hank, dtype: object"
      ]
     },
     "metadata": {},
     "execution_count": 31
    }
   ],
   "source": [
    "df.loc['Hank']"
   ]
  },
  {
   "cell_type": "code",
   "execution_count": 32,
   "metadata": {},
   "outputs": [
    {
     "output_type": "execute_result",
     "data": {
      "text/plain": [
       "pandas.core.series.Series"
      ]
     },
     "metadata": {},
     "execution_count": 32
    }
   ],
   "source": [
    "type(df.loc['Hank'])"
   ]
  },
  {
   "cell_type": "code",
   "execution_count": 41,
   "metadata": {},
   "outputs": [
    {
     "output_type": "execute_result",
     "data": {
      "text/plain": [
       "    Name         Sex  Age  Height (in)  Weight (lbs)\n",
       "0   Alex         \"M\"   41           74           170\n",
       "3   Dave         \"M\"   39           72           167\n",
       "7   Hank         \"M\"   30           71           158\n",
       "8   Ivan         \"M\"   53           72           175\n",
       "11  Luke         \"M\"   34           72           163\n",
       "13  Neil         \"M\"   36           75           160\n",
       "16  Quin         \"M\"   29           71           176"
      ],
      "text/html": "<div>\n<style scoped>\n    .dataframe tbody tr th:only-of-type {\n        vertical-align: middle;\n    }\n\n    .dataframe tbody tr th {\n        vertical-align: top;\n    }\n\n    .dataframe thead th {\n        text-align: right;\n    }\n</style>\n<table border=\"1\" class=\"dataframe\">\n  <thead>\n    <tr style=\"text-align: right;\">\n      <th></th>\n      <th>Name</th>\n      <th>Sex</th>\n      <th>Age</th>\n      <th>Height (in)</th>\n      <th>Weight (lbs)</th>\n    </tr>\n  </thead>\n  <tbody>\n    <tr>\n      <th>0</th>\n      <td>Alex</td>\n      <td>\"M\"</td>\n      <td>41</td>\n      <td>74</td>\n      <td>170</td>\n    </tr>\n    <tr>\n      <th>3</th>\n      <td>Dave</td>\n      <td>\"M\"</td>\n      <td>39</td>\n      <td>72</td>\n      <td>167</td>\n    </tr>\n    <tr>\n      <th>7</th>\n      <td>Hank</td>\n      <td>\"M\"</td>\n      <td>30</td>\n      <td>71</td>\n      <td>158</td>\n    </tr>\n    <tr>\n      <th>8</th>\n      <td>Ivan</td>\n      <td>\"M\"</td>\n      <td>53</td>\n      <td>72</td>\n      <td>175</td>\n    </tr>\n    <tr>\n      <th>11</th>\n      <td>Luke</td>\n      <td>\"M\"</td>\n      <td>34</td>\n      <td>72</td>\n      <td>163</td>\n    </tr>\n    <tr>\n      <th>13</th>\n      <td>Neil</td>\n      <td>\"M\"</td>\n      <td>36</td>\n      <td>75</td>\n      <td>160</td>\n    </tr>\n    <tr>\n      <th>16</th>\n      <td>Quin</td>\n      <td>\"M\"</td>\n      <td>29</td>\n      <td>71</td>\n      <td>176</td>\n    </tr>\n  </tbody>\n</table>\n</div>"
     },
     "metadata": {},
     "execution_count": 41
    }
   ],
   "source": [
    "df[df['Height (in)'] > 70]"
   ]
  },
  {
   "cell_type": "code",
   "execution_count": 45,
   "metadata": {},
   "outputs": [
    {
     "output_type": "execute_result",
     "data": {
      "text/plain": [
       "    Name         Sex  Age  Height (in)  Weight (lbs)\n",
       "0   Alex         \"M\"   41           74           170\n",
       "1   Bert         \"M\"   42           68           166\n",
       "2   Carl         \"M\"   32           70           155\n",
       "3   Dave         \"M\"   39           72           167\n",
       "4   Elly         \"F\"   30           66           124\n",
       "5   Fran         \"F\"   33           66           115\n",
       "6   Gwen         \"F\"   26           64           121\n",
       "7   Hank         \"M\"   30           71           158\n",
       "8   Ivan         \"M\"   53           72           175\n",
       "9   Jake         \"M\"   32           69           143\n",
       "10  Kate         \"F\"   47           69           139\n",
       "11  Luke         \"M\"   34           72           163\n",
       "12  Myra         \"F\"   23           62            98\n",
       "13  Neil         \"M\"   36           75           160\n",
       "14  Omar         \"M\"   38           70           145\n",
       "15  Page         \"F\"   31           67           135\n",
       "16  Quin         \"M\"   29           71           176\n",
       "17  Ruth         \"F\"   28           65           131"
      ],
      "text/html": "<div>\n<style scoped>\n    .dataframe tbody tr th:only-of-type {\n        vertical-align: middle;\n    }\n\n    .dataframe tbody tr th {\n        vertical-align: top;\n    }\n\n    .dataframe thead th {\n        text-align: right;\n    }\n</style>\n<table border=\"1\" class=\"dataframe\">\n  <thead>\n    <tr style=\"text-align: right;\">\n      <th></th>\n      <th>Name</th>\n      <th>Sex</th>\n      <th>Age</th>\n      <th>Height (in)</th>\n      <th>Weight (lbs)</th>\n    </tr>\n  </thead>\n  <tbody>\n    <tr>\n      <th>0</th>\n      <td>Alex</td>\n      <td>\"M\"</td>\n      <td>41</td>\n      <td>74</td>\n      <td>170</td>\n    </tr>\n    <tr>\n      <th>1</th>\n      <td>Bert</td>\n      <td>\"M\"</td>\n      <td>42</td>\n      <td>68</td>\n      <td>166</td>\n    </tr>\n    <tr>\n      <th>2</th>\n      <td>Carl</td>\n      <td>\"M\"</td>\n      <td>32</td>\n      <td>70</td>\n      <td>155</td>\n    </tr>\n    <tr>\n      <th>3</th>\n      <td>Dave</td>\n      <td>\"M\"</td>\n      <td>39</td>\n      <td>72</td>\n      <td>167</td>\n    </tr>\n    <tr>\n      <th>4</th>\n      <td>Elly</td>\n      <td>\"F\"</td>\n      <td>30</td>\n      <td>66</td>\n      <td>124</td>\n    </tr>\n    <tr>\n      <th>5</th>\n      <td>Fran</td>\n      <td>\"F\"</td>\n      <td>33</td>\n      <td>66</td>\n      <td>115</td>\n    </tr>\n    <tr>\n      <th>6</th>\n      <td>Gwen</td>\n      <td>\"F\"</td>\n      <td>26</td>\n      <td>64</td>\n      <td>121</td>\n    </tr>\n    <tr>\n      <th>7</th>\n      <td>Hank</td>\n      <td>\"M\"</td>\n      <td>30</td>\n      <td>71</td>\n      <td>158</td>\n    </tr>\n    <tr>\n      <th>8</th>\n      <td>Ivan</td>\n      <td>\"M\"</td>\n      <td>53</td>\n      <td>72</td>\n      <td>175</td>\n    </tr>\n    <tr>\n      <th>9</th>\n      <td>Jake</td>\n      <td>\"M\"</td>\n      <td>32</td>\n      <td>69</td>\n      <td>143</td>\n    </tr>\n    <tr>\n      <th>10</th>\n      <td>Kate</td>\n      <td>\"F\"</td>\n      <td>47</td>\n      <td>69</td>\n      <td>139</td>\n    </tr>\n    <tr>\n      <th>11</th>\n      <td>Luke</td>\n      <td>\"M\"</td>\n      <td>34</td>\n      <td>72</td>\n      <td>163</td>\n    </tr>\n    <tr>\n      <th>12</th>\n      <td>Myra</td>\n      <td>\"F\"</td>\n      <td>23</td>\n      <td>62</td>\n      <td>98</td>\n    </tr>\n    <tr>\n      <th>13</th>\n      <td>Neil</td>\n      <td>\"M\"</td>\n      <td>36</td>\n      <td>75</td>\n      <td>160</td>\n    </tr>\n    <tr>\n      <th>14</th>\n      <td>Omar</td>\n      <td>\"M\"</td>\n      <td>38</td>\n      <td>70</td>\n      <td>145</td>\n    </tr>\n    <tr>\n      <th>15</th>\n      <td>Page</td>\n      <td>\"F\"</td>\n      <td>31</td>\n      <td>67</td>\n      <td>135</td>\n    </tr>\n    <tr>\n      <th>16</th>\n      <td>Quin</td>\n      <td>\"M\"</td>\n      <td>29</td>\n      <td>71</td>\n      <td>176</td>\n    </tr>\n    <tr>\n      <th>17</th>\n      <td>Ruth</td>\n      <td>\"F\"</td>\n      <td>28</td>\n      <td>65</td>\n      <td>131</td>\n    </tr>\n  </tbody>\n</table>\n</div>"
     },
     "metadata": {},
     "execution_count": 45
    }
   ],
   "source": [
    "df[df['Sex'] != 'M']"
   ]
  },
  {
   "cell_type": "code",
   "execution_count": 46,
   "metadata": {},
   "outputs": [
    {
     "output_type": "execute_result",
     "data": {
      "text/plain": [
       "0     True\n",
       "1     True\n",
       "2     True\n",
       "3     True\n",
       "4     True\n",
       "5     True\n",
       "6     True\n",
       "7     True\n",
       "8     True\n",
       "9     True\n",
       "10    True\n",
       "11    True\n",
       "12    True\n",
       "13    True\n",
       "14    True\n",
       "15    True\n",
       "16    True\n",
       "17    True\n",
       "Name: Sex, dtype: bool"
      ]
     },
     "metadata": {},
     "execution_count": 46
    }
   ],
   "source": [
    "df['Sex'] != 'M'"
   ]
  },
  {
   "cell_type": "code",
   "execution_count": 47,
   "metadata": {},
   "outputs": [
    {
     "output_type": "execute_result",
     "data": {
      "text/plain": [
       "pandas.core.series.Series"
      ]
     },
     "metadata": {},
     "execution_count": 47
    }
   ],
   "source": [
    "type(df['Sex'] != 'M')"
   ]
  },
  {
   "cell_type": "code",
   "execution_count": 51,
   "metadata": {},
   "outputs": [
    {
     "output_type": "execute_result",
     "data": {
      "text/plain": [
       "array([ 0,  1,  2,  3,  4,  5,  6,  7,  8,  9, 10, 11, 12, 13, 14, 15, 16])"
      ]
     },
     "metadata": {},
     "execution_count": 51
    }
   ],
   "source": [
    "import numpy as np\n",
    "A = np.arange(17)\n",
    "A"
   ]
  },
  {
   "cell_type": "code",
   "execution_count": 52,
   "metadata": {},
   "outputs": [
    {
     "output_type": "execute_result",
     "data": {
      "text/plain": [
       "array([ 0,  2,  4,  6,  8, 10, 12, 14, 16])"
      ]
     },
     "metadata": {},
     "execution_count": 52
    }
   ],
   "source": [
    "A[A % 2 ==0]"
   ]
  },
  {
   "cell_type": "code",
   "execution_count": 53,
   "metadata": {},
   "outputs": [
    {
     "output_type": "execute_result",
     "data": {
      "text/plain": [
       "array([['Alex', '       \"M\"', 41, 74, 170],\n",
       "       ['Bert', '       \"M\"', 42, 68, 166],\n",
       "       ['Carl', '       \"M\"', 32, 70, 155],\n",
       "       ['Dave', '       \"M\"', 39, 72, 167],\n",
       "       ['Elly', '       \"F\"', 30, 66, 124],\n",
       "       ['Fran', '       \"F\"', 33, 66, 115],\n",
       "       ['Gwen', '       \"F\"', 26, 64, 121],\n",
       "       ['Hank', '       \"M\"', 30, 71, 158],\n",
       "       ['Ivan', '       \"M\"', 53, 72, 175],\n",
       "       ['Jake', '       \"M\"', 32, 69, 143],\n",
       "       ['Kate', '       \"F\"', 47, 69, 139],\n",
       "       ['Luke', '       \"M\"', 34, 72, 163],\n",
       "       ['Myra', '       \"F\"', 23, 62, 98],\n",
       "       ['Neil', '       \"M\"', 36, 75, 160],\n",
       "       ['Omar', '       \"M\"', 38, 70, 145],\n",
       "       ['Page', '       \"F\"', 31, 67, 135],\n",
       "       ['Quin', '       \"M\"', 29, 71, 176],\n",
       "       ['Ruth', '       \"F\"', 28, 65, 131]], dtype=object)"
      ]
     },
     "metadata": {},
     "execution_count": 53
    }
   ],
   "source": [
    "df.values"
   ]
  },
  {
   "cell_type": "code",
   "execution_count": 55,
   "metadata": {},
   "outputs": [
    {
     "output_type": "execute_result",
     "data": {
      "text/plain": [
       "array([['Alex', '       \"M\"'],\n",
       "       ['Bert', '       \"M\"'],\n",
       "       ['Carl', '       \"M\"'],\n",
       "       ['Dave', '       \"M\"'],\n",
       "       ['Elly', '       \"F\"'],\n",
       "       ['Fran', '       \"F\"'],\n",
       "       ['Gwen', '       \"F\"'],\n",
       "       ['Hank', '       \"M\"'],\n",
       "       ['Ivan', '       \"M\"'],\n",
       "       ['Jake', '       \"M\"'],\n",
       "       ['Kate', '       \"F\"'],\n",
       "       ['Luke', '       \"M\"'],\n",
       "       ['Myra', '       \"F\"'],\n",
       "       ['Neil', '       \"M\"'],\n",
       "       ['Omar', '       \"M\"'],\n",
       "       ['Page', '       \"F\"'],\n",
       "       ['Quin', '       \"M\"'],\n",
       "       ['Ruth', '       \"F\"']], dtype=object)"
      ]
     },
     "metadata": {},
     "execution_count": 55
    }
   ],
   "source": [
    "A = df[['Name','Sex']].values\n",
    "A"
   ]
  },
  {
   "cell_type": "code",
   "execution_count": 56,
   "metadata": {},
   "outputs": [
    {
     "output_type": "execute_result",
     "data": {
      "text/plain": [
       "numpy.ndarray"
      ]
     },
     "metadata": {},
     "execution_count": 56
    }
   ],
   "source": [
    "type(A)"
   ]
  },
  {
   "cell_type": "code",
   "execution_count": 57,
   "metadata": {},
   "outputs": [],
   "source": [
    "smalldf = df[['Name','Sex']]\n",
    "smalldf.to_csv('output.csv')"
   ]
  },
  {
   "cell_type": "code",
   "execution_count": 58,
   "metadata": {},
   "outputs": [
    {
     "output_type": "execute_result",
     "data": {
      "text/plain": [
       "    Unnamed: 0  Name         Sex\n",
       "0            0  Alex         \"M\"\n",
       "1            1  Bert         \"M\"\n",
       "2            2  Carl         \"M\"\n",
       "3            3  Dave         \"M\"\n",
       "4            4  Elly         \"F\"\n",
       "5            5  Fran         \"F\"\n",
       "6            6  Gwen         \"F\"\n",
       "7            7  Hank         \"M\"\n",
       "8            8  Ivan         \"M\"\n",
       "9            9  Jake         \"M\"\n",
       "10          10  Kate         \"F\"\n",
       "11          11  Luke         \"M\"\n",
       "12          12  Myra         \"F\"\n",
       "13          13  Neil         \"M\"\n",
       "14          14  Omar         \"M\"\n",
       "15          15  Page         \"F\"\n",
       "16          16  Quin         \"M\"\n",
       "17          17  Ruth         \"F\""
      ],
      "text/html": "<div>\n<style scoped>\n    .dataframe tbody tr th:only-of-type {\n        vertical-align: middle;\n    }\n\n    .dataframe tbody tr th {\n        vertical-align: top;\n    }\n\n    .dataframe thead th {\n        text-align: right;\n    }\n</style>\n<table border=\"1\" class=\"dataframe\">\n  <thead>\n    <tr style=\"text-align: right;\">\n      <th></th>\n      <th>Unnamed: 0</th>\n      <th>Name</th>\n      <th>Sex</th>\n    </tr>\n  </thead>\n  <tbody>\n    <tr>\n      <th>0</th>\n      <td>0</td>\n      <td>Alex</td>\n      <td>\"M\"</td>\n    </tr>\n    <tr>\n      <th>1</th>\n      <td>1</td>\n      <td>Bert</td>\n      <td>\"M\"</td>\n    </tr>\n    <tr>\n      <th>2</th>\n      <td>2</td>\n      <td>Carl</td>\n      <td>\"M\"</td>\n    </tr>\n    <tr>\n      <th>3</th>\n      <td>3</td>\n      <td>Dave</td>\n      <td>\"M\"</td>\n    </tr>\n    <tr>\n      <th>4</th>\n      <td>4</td>\n      <td>Elly</td>\n      <td>\"F\"</td>\n    </tr>\n    <tr>\n      <th>5</th>\n      <td>5</td>\n      <td>Fran</td>\n      <td>\"F\"</td>\n    </tr>\n    <tr>\n      <th>6</th>\n      <td>6</td>\n      <td>Gwen</td>\n      <td>\"F\"</td>\n    </tr>\n    <tr>\n      <th>7</th>\n      <td>7</td>\n      <td>Hank</td>\n      <td>\"M\"</td>\n    </tr>\n    <tr>\n      <th>8</th>\n      <td>8</td>\n      <td>Ivan</td>\n      <td>\"M\"</td>\n    </tr>\n    <tr>\n      <th>9</th>\n      <td>9</td>\n      <td>Jake</td>\n      <td>\"M\"</td>\n    </tr>\n    <tr>\n      <th>10</th>\n      <td>10</td>\n      <td>Kate</td>\n      <td>\"F\"</td>\n    </tr>\n    <tr>\n      <th>11</th>\n      <td>11</td>\n      <td>Luke</td>\n      <td>\"M\"</td>\n    </tr>\n    <tr>\n      <th>12</th>\n      <td>12</td>\n      <td>Myra</td>\n      <td>\"F\"</td>\n    </tr>\n    <tr>\n      <th>13</th>\n      <td>13</td>\n      <td>Neil</td>\n      <td>\"M\"</td>\n    </tr>\n    <tr>\n      <th>14</th>\n      <td>14</td>\n      <td>Omar</td>\n      <td>\"M\"</td>\n    </tr>\n    <tr>\n      <th>15</th>\n      <td>15</td>\n      <td>Page</td>\n      <td>\"F\"</td>\n    </tr>\n    <tr>\n      <th>16</th>\n      <td>16</td>\n      <td>Quin</td>\n      <td>\"M\"</td>\n    </tr>\n    <tr>\n      <th>17</th>\n      <td>17</td>\n      <td>Ruth</td>\n      <td>\"F\"</td>\n    </tr>\n  </tbody>\n</table>\n</div>"
     },
     "metadata": {},
     "execution_count": 58
    }
   ],
   "source": [
    "pd.read_csv('output.csv')"
   ]
  },
  {
   "cell_type": "code",
   "execution_count": 59,
   "metadata": {},
   "outputs": [],
   "source": [
    "smalldf.to_csv('output.csv', index=False)"
   ]
  },
  {
   "cell_type": "code",
   "execution_count": 60,
   "metadata": {},
   "outputs": [
    {
     "output_type": "execute_result",
     "data": {
      "text/plain": [
       "    Name         Sex\n",
       "0   Alex         \"M\"\n",
       "1   Bert         \"M\"\n",
       "2   Carl         \"M\"\n",
       "3   Dave         \"M\"\n",
       "4   Elly         \"F\"\n",
       "5   Fran         \"F\"\n",
       "6   Gwen         \"F\"\n",
       "7   Hank         \"M\"\n",
       "8   Ivan         \"M\"\n",
       "9   Jake         \"M\"\n",
       "10  Kate         \"F\"\n",
       "11  Luke         \"M\"\n",
       "12  Myra         \"F\"\n",
       "13  Neil         \"M\"\n",
       "14  Omar         \"M\"\n",
       "15  Page         \"F\"\n",
       "16  Quin         \"M\"\n",
       "17  Ruth         \"F\""
      ],
      "text/html": "<div>\n<style scoped>\n    .dataframe tbody tr th:only-of-type {\n        vertical-align: middle;\n    }\n\n    .dataframe tbody tr th {\n        vertical-align: top;\n    }\n\n    .dataframe thead th {\n        text-align: right;\n    }\n</style>\n<table border=\"1\" class=\"dataframe\">\n  <thead>\n    <tr style=\"text-align: right;\">\n      <th></th>\n      <th>Name</th>\n      <th>Sex</th>\n    </tr>\n  </thead>\n  <tbody>\n    <tr>\n      <th>0</th>\n      <td>Alex</td>\n      <td>\"M\"</td>\n    </tr>\n    <tr>\n      <th>1</th>\n      <td>Bert</td>\n      <td>\"M\"</td>\n    </tr>\n    <tr>\n      <th>2</th>\n      <td>Carl</td>\n      <td>\"M\"</td>\n    </tr>\n    <tr>\n      <th>3</th>\n      <td>Dave</td>\n      <td>\"M\"</td>\n    </tr>\n    <tr>\n      <th>4</th>\n      <td>Elly</td>\n      <td>\"F\"</td>\n    </tr>\n    <tr>\n      <th>5</th>\n      <td>Fran</td>\n      <td>\"F\"</td>\n    </tr>\n    <tr>\n      <th>6</th>\n      <td>Gwen</td>\n      <td>\"F\"</td>\n    </tr>\n    <tr>\n      <th>7</th>\n      <td>Hank</td>\n      <td>\"M\"</td>\n    </tr>\n    <tr>\n      <th>8</th>\n      <td>Ivan</td>\n      <td>\"M\"</td>\n    </tr>\n    <tr>\n      <th>9</th>\n      <td>Jake</td>\n      <td>\"M\"</td>\n    </tr>\n    <tr>\n      <th>10</th>\n      <td>Kate</td>\n      <td>\"F\"</td>\n    </tr>\n    <tr>\n      <th>11</th>\n      <td>Luke</td>\n      <td>\"M\"</td>\n    </tr>\n    <tr>\n      <th>12</th>\n      <td>Myra</td>\n      <td>\"F\"</td>\n    </tr>\n    <tr>\n      <th>13</th>\n      <td>Neil</td>\n      <td>\"M\"</td>\n    </tr>\n    <tr>\n      <th>14</th>\n      <td>Omar</td>\n      <td>\"M\"</td>\n    </tr>\n    <tr>\n      <th>15</th>\n      <td>Page</td>\n      <td>\"F\"</td>\n    </tr>\n    <tr>\n      <th>16</th>\n      <td>Quin</td>\n      <td>\"M\"</td>\n    </tr>\n    <tr>\n      <th>17</th>\n      <td>Ruth</td>\n      <td>\"F\"</td>\n    </tr>\n  </tbody>\n</table>\n</div>"
     },
     "metadata": {},
     "execution_count": 60
    }
   ],
   "source": [
    "pd.read_csv('output.csv')"
   ]
  },
  {
   "cell_type": "code",
   "execution_count": null,
   "metadata": {},
   "outputs": [],
   "source": []
  }
 ]
}